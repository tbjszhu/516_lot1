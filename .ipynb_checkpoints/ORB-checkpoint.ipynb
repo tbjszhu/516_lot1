{
 "metadata": {
  "name": "",
  "signature": "sha256:679c413f42f97499dc67cd9bf2ab3d1ee40bac5541a0b130849a862bf37b3e2e"
 },
 "nbformat": 3,
 "nbformat_minor": 0,
 "worksheets": [
  {
   "cells": [
    {
     "cell_type": "code",
     "collapsed": false,
     "input": [
      "import numpy as np\n",
      "import cv2\n",
      "from matplotlib import pyplot as plt\n",
      "import os\n",
      "#from sklearn.cluster import Kmeans\n",
      "\n",
      "\n",
      "print \"start\"\n",
      "fileList = os.listdir(\"/homes/jzhu/F4B516/train/\")\n",
      "os.chdir(\"/homes/jzhu/F4B516/train/\")\n",
      "for filename in fileList:\n",
      "    if '941_l.png' in filename:\n",
      "        print filename\n",
      "        filename_des = filename.split('.')[0]\n",
      "        img = cv2.imread(filename,0)\n",
      "        # Initiate STAR detector\n",
      "        orb = cv2.ORB()\n",
      "\n",
      "        # find the keypoints with ORB\n",
      "        kp = orb.detect(img,None)\n",
      "\n",
      "        # compute the descriptors with ORB\n",
      "        kp, des = orb.compute(img, kp)\n",
      "        print des\n",
      "        #creat file to store descriptor\n",
      "        #np.save(filename_des, des)\n",
      "\n",
      "        # draw only keypoints location,not size and orientation\n",
      "        img2 = cv2.drawKeypoints(img,kp,color=(0,255,0), flags=0)\n",
      "        plt.imshow(img2),plt.show()"
     ],
     "language": "python",
     "metadata": {},
     "outputs": [
      {
       "output_type": "stream",
       "stream": "stdout",
       "text": [
        "start\n",
        "941_l.png\n",
        "None\n"
       ]
      }
     ],
     "prompt_number": 64
    },
    {
     "cell_type": "code",
     "collapsed": false,
     "input": [],
     "language": "python",
     "metadata": {},
     "outputs": [],
     "prompt_number": 60
    },
    {
     "cell_type": "code",
     "collapsed": false,
     "input": [],
     "language": "python",
     "metadata": {},
     "outputs": [],
     "prompt_number": 60
    },
    {
     "cell_type": "code",
     "collapsed": false,
     "input": [],
     "language": "python",
     "metadata": {},
     "outputs": [],
     "prompt_number": 60
    },
    {
     "cell_type": "code",
     "collapsed": false,
     "input": [],
     "language": "python",
     "metadata": {},
     "outputs": []
    }
   ],
   "metadata": {}
  }
 ]
}