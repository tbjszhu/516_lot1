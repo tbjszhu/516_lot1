{
 "worksheets": [
  {
   "cells": [
    {
     "cell_type": "code",
     "execution_count": null,
     "metadata": {},
     "outputs": [
      {
       "stream": "stdout",
       "output_type": "stream",
       "text": [
        "16\n",
        "opencv-logo-white.png\n",
        "251_c.png"
       ]
      },
      {
       "stream": "stdout",
       "output_type": "stream",
       "text": [
        "\n",
        "252_c.png"
       ]
      },
      {
       "stream": "stdout",
       "output_type": "stream",
       "text": [
        "\n"
       ]
      }
     ],
     "input": [
      "import numpy as np\n",
      "import cv2\n",
      "from matplotlib import pyplot as plt\n",
      "import os\n",
      "\n",
      "#os.chdir()\n",
      "\n",
      "fileList = os.listdir(\"/homes/jzhu/F4B516/\")\n",
      "print np.size(fileList)\n",
      "\n",
      "for filename in fileList:\n",
      "    if '.png' in filename:\n",
      "        print filename\n",
      "        filename_des = filename.split('.')[0]\n",
      "        img = cv2.imread(filename,0)\n",
      "\n",
      "        # Initiate STAR detector\n",
      "        orb = cv2.ORB()\n",
      "\n",
      "        # find the keypoints with ORB\n",
      "        kp = orb.detect(img,None)\n",
      "\n",
      "        # compute the descriptors with ORB\n",
      "        kp, des = orb.compute(img, kp)\n",
      "        \n",
      "        #creat file to store descriptor\n",
      "        if not os.path.exists(filename_des):\n",
      "            os.mknod(filename_des)\n",
      "        np.save(filename_des, des)\n",
      "\n",
      "        # draw only keypoints location,not size and orientation\n",
      "        img2 = cv2.drawKeypoints(img,kp,color=(0,255,0), flags=0)\n",
      "        plt.imshow(img2),plt.show()"
     ],
     "language": "python",
     "prompt_number": 33
    },
    {
     "cell_type": "code",
     "execution_count": null,
     "metadata": {},
     "outputs": [],
     "input": [],
     "language": "python",
     "prompt_number": 31
    },
    {
     "cell_type": "code",
     "execution_count": null,
     "metadata": {},
     "outputs": [],
     "input": [],
     "language": "python",
     "prompt_number": 31
    },
    {
     "cell_type": "code",
     "execution_count": null,
     "metadata": {},
     "outputs": [],
     "input": [],
     "language": "python",
     "prompt_number": 31
    },
    {
     "cell_type": "code",
     "execution_count": null,
     "metadata": {},
     "outputs": [],
     "input": [],
     "language": "python"
    }
   ]
  }
 ],
 "cells": [],
 "metadata": {
  "name": "",
  "signature": "sha256:da93b6f71b7c27815a1b646e1453949c4b466bf498284b32b537c6663372dd76"
 },
 "nbformat": 4,
 "nbformat_minor": 0
}
