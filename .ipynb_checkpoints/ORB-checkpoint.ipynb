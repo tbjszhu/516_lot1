{
 "metadata": {
  "name": "",
  "signature": "sha256:0abe34007a9a3b592df13a2c99d0633e9fb19b346e467990b59e3d1515074e42"
 },
 "nbformat": 3,
 "nbformat_minor": 0,
 "worksheets": [
  {
   "cells": [
    {
     "cell_type": "code",
     "collapsed": false,
     "input": [
      "import numpy as np\n",
      "import cv2\n",
      "from matplotlib import pyplot as plt\n",
      "import os\n",
      "\n",
      "#os.chdir()\n",
      "\n",
      "fileList = os.listdir(\"/homes/jzhu/F4B516\")\n",
      "print np.size(fileList)\n",
      "\n",
      "for filename in fileList:\n",
      "    if '.png' in filename:\n",
      "        print filename\n",
      "        filename_des = filename.split('.')[0] + 'npy'\n",
      "        img = cv2.imread('filename',0)\n",
      "\n",
      "        # Initiate STAR detector\n",
      "        orb = cv2.ORB()\n",
      "\n",
      "        # find the keypoints with ORB\n",
      "        kp = orb.detect(img,None)\n",
      "\n",
      "        # compute the descriptors with ORB\n",
      "        kp, des = orb.compute(img, kp)\n",
      "        os.mknod(filename_des)\n",
      "        np.save(filename_des, des)\n",
      "        #des1 = np.load(\"feature_dispt.npy\")\n",
      "        #print des1\n",
      "\n",
      "        # draw only keypoints location,not size and orientation\n",
      "        img2 = cv2.drawKeypoints(img,kp,color=(0,255,0), flags=0)\n",
      "        plt.imshow(img2),plt.show()"
     ],
     "language": "python",
     "metadata": {},
     "outputs": [
      {
       "output_type": "stream",
       "stream": "stdout",
       "text": [
        "10\n",
        "opencv-logo-white.png\n",
        "[[ 66  32  80 ...,   8  67   1]\n",
        " [ 98  32  80 ..., 136  99 128]\n",
        " [  2   8  66 ...,  10 112 128]\n",
        " ..., \n",
        " [165  68 121 ..., 187  66 160]\n",
        " [181  84 123 ..., 187  70 162]\n",
        " [100   1 125 ..., 170  70  34]]\n"
       ]
      },
      {
       "ename": "error",
       "evalue": "/build/opencv-SviWsf/opencv-2.4.9.1+dfsg/modules/features2d/src/draw.cpp:115: error: (-215) !outImage.empty() in function drawKeypoints\n",
       "output_type": "pyerr",
       "traceback": [
        "\u001b[0;31m---------------------------------------------------------------------------\u001b[0m\n\u001b[0;31merror\u001b[0m                                     Traceback (most recent call last)",
        "\u001b[0;32m<ipython-input-28-872f95cada65>\u001b[0m in \u001b[0;36m<module>\u001b[0;34m()\u001b[0m\n\u001b[1;32m     30\u001b[0m \u001b[0;34m\u001b[0m\u001b[0m\n\u001b[1;32m     31\u001b[0m         \u001b[0;31m# draw only keypoints location,not size and orientation\u001b[0m\u001b[0;34m\u001b[0m\u001b[0;34m\u001b[0m\u001b[0m\n\u001b[0;32m---> 32\u001b[0;31m         \u001b[0mimg2\u001b[0m \u001b[0;34m=\u001b[0m \u001b[0mcv2\u001b[0m\u001b[0;34m.\u001b[0m\u001b[0mdrawKeypoints\u001b[0m\u001b[0;34m(\u001b[0m\u001b[0mimg\u001b[0m\u001b[0;34m,\u001b[0m\u001b[0mkp\u001b[0m\u001b[0;34m,\u001b[0m\u001b[0mcolor\u001b[0m\u001b[0;34m=\u001b[0m\u001b[0;34m(\u001b[0m\u001b[0;36m0\u001b[0m\u001b[0;34m,\u001b[0m\u001b[0;36m255\u001b[0m\u001b[0;34m,\u001b[0m\u001b[0;36m0\u001b[0m\u001b[0;34m)\u001b[0m\u001b[0;34m,\u001b[0m \u001b[0mflags\u001b[0m\u001b[0;34m=\u001b[0m\u001b[0;36m0\u001b[0m\u001b[0;34m)\u001b[0m\u001b[0;34m\u001b[0m\u001b[0m\n\u001b[0m\u001b[1;32m     33\u001b[0m         \u001b[0mplt\u001b[0m\u001b[0;34m.\u001b[0m\u001b[0mimshow\u001b[0m\u001b[0;34m(\u001b[0m\u001b[0mimg2\u001b[0m\u001b[0;34m)\u001b[0m\u001b[0;34m,\u001b[0m\u001b[0mplt\u001b[0m\u001b[0;34m.\u001b[0m\u001b[0mshow\u001b[0m\u001b[0;34m(\u001b[0m\u001b[0;34m)\u001b[0m\u001b[0;34m\u001b[0m\u001b[0m\n",
        "\u001b[0;31merror\u001b[0m: /build/opencv-SviWsf/opencv-2.4.9.1+dfsg/modules/features2d/src/draw.cpp:115: error: (-215) !outImage.empty() in function drawKeypoints\n"
       ]
      }
     ],
     "prompt_number": 28
    },
    {
     "cell_type": "code",
     "collapsed": false,
     "input": [],
     "language": "python",
     "metadata": {},
     "outputs": []
    },
    {
     "cell_type": "code",
     "collapsed": false,
     "input": [],
     "language": "python",
     "metadata": {},
     "outputs": []
    }
   ],
   "metadata": {}
  }
 ]
}